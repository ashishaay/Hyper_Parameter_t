{
 "cells": [
  {
   "cell_type": "code",
   "execution_count": 19,
   "id": "1f85bc03",
   "metadata": {},
   "outputs": [],
   "source": [
    "import pandas as pd\n",
    "from tensorflow import keras\n",
    "from tensorflow.keras import layers\n",
    "from keras_tuner.tuners import RandomSearch"
   ]
  },
  {
   "cell_type": "code",
   "execution_count": 31,
   "id": "6108d9e1",
   "metadata": {},
   "outputs": [],
   "source": [
    "df = pd.read_csv(\"Real_Combine.csv\")\n",
    "df.dropna(inplace = True)\n"
   ]
  },
  {
   "cell_type": "code",
   "execution_count": 32,
   "id": "ab2e96b0",
   "metadata": {},
   "outputs": [],
   "source": [
    "X = df.drop([\"PM 2.5\"], axis =1)\n",
    "y = df['PM 2.5']"
   ]
  },
  {
   "cell_type": "code",
   "execution_count": 33,
   "id": "26b63705",
   "metadata": {},
   "outputs": [],
   "source": [
    "from sklearn.model_selection import train_test_split\n",
    "X_train, X_test, y_train, y_test = train_test_split(X, y, test_size=0.2, random_state=0)"
   ]
  },
  {
   "cell_type": "code",
   "execution_count": 38,
   "id": "c29e2886",
   "metadata": {},
   "outputs": [],
   "source": [
    "def build_model(hp):\n",
    "    model = keras.Sequential()\n",
    "    \n",
    "    for i in range(hp.Int('num_layers', 2, 20)):\n",
    "        model.add(layers.Dense(units=hp.Int('units_' + str(i),\n",
    "                                            min_value=32,\n",
    "                                            max_value=512,\n",
    "                                            step=32),\n",
    "                               kernel_initializer=hp.Choice('Wt_initializer', ['he_uniform', 'he_normal', 'glorot_uniform']),\n",
    "                               bias_initializer='zeros',\n",
    "                               activation='relu'))\n",
    "    model.add(layers.Dense(1, \n",
    "                           kernel_initializer=hp.Choice('Wt_initializer', ['he_uniform', 'he_normal', 'glorot_uniform']),\n",
    "                           activation='linear'))\n",
    "    model.compile(\n",
    "        optimizer=keras.optimizers.Adam(\n",
    "            hp.Choice('learning_rate', [1e-2, 1e-3, 1e-4])),#clipvalue = 1),\n",
    "        loss='mean_absolute_error',\n",
    "        \n",
    "        metrics=['mean_absolute_error'])\n",
    "    return model"
   ]
  },
  {
   "cell_type": "code",
   "execution_count": 39,
   "id": "996ee967",
   "metadata": {},
   "outputs": [],
   "source": [
    "tuner = RandomSearch(\n",
    "    build_model,\n",
    "    objective='val_mean_absolute_error',\n",
    "    max_trials=5,\n",
    "    executions_per_trial=3,\n",
    "    directory='project',\n",
    "    project_name='Air Quality Index')"
   ]
  },
  {
   "cell_type": "code",
   "execution_count": 40,
   "id": "dbefa08a",
   "metadata": {},
   "outputs": [
    {
     "name": "stdout",
     "output_type": "stream",
     "text": [
      "Search space summary\n",
      "Default search space size: 5\n",
      "num_layers (Int)\n",
      "{'default': None, 'conditions': [], 'min_value': 2, 'max_value': 20, 'step': 1, 'sampling': None}\n",
      "units_0 (Int)\n",
      "{'default': None, 'conditions': [], 'min_value': 32, 'max_value': 512, 'step': 32, 'sampling': None}\n",
      "Wt_initializer (Choice)\n",
      "{'default': 'he_uniform', 'conditions': [], 'values': ['he_uniform', 'he_normal', 'glorot_uniform'], 'ordered': False}\n",
      "units_1 (Int)\n",
      "{'default': None, 'conditions': [], 'min_value': 32, 'max_value': 512, 'step': 32, 'sampling': None}\n",
      "learning_rate (Choice)\n",
      "{'default': 0.01, 'conditions': [], 'values': [0.01, 0.001, 0.0001], 'ordered': True}\n"
     ]
    }
   ],
   "source": [
    "tuner.search_space_summary()\n"
   ]
  },
  {
   "cell_type": "code",
   "execution_count": 41,
   "id": "5f8d22a9",
   "metadata": {},
   "outputs": [
    {
     "name": "stdout",
     "output_type": "stream",
     "text": [
      "Trial 5 Complete [00h 00m 35s]\n",
      "val_mean_absolute_error: 41.715293884277344\n",
      "\n",
      "Best val_mean_absolute_error So Far: 41.715293884277344\n",
      "Total elapsed time: 00h 04m 56s\n",
      "INFO:tensorflow:Oracle triggered exit\n"
     ]
    }
   ],
   "source": [
    "tuner.search(X_train, y_train,\n",
    "             epochs=100,\n",
    "             validation_data=(X_test, y_test))"
   ]
  },
  {
   "cell_type": "code",
   "execution_count": 42,
   "id": "176ac713",
   "metadata": {},
   "outputs": [
    {
     "name": "stdout",
     "output_type": "stream",
     "text": [
      "Results summary\n",
      "Results in project\\Air Quality Index\n",
      "Showing 10 best trials\n",
      "<keras_tuner.engine.objective.Objective object at 0x0000023A88CFA080>\n",
      "Trial summary\n",
      "Hyperparameters:\n",
      "num_layers: 3\n",
      "units_0: 480\n",
      "Wt_initializer: glorot_uniform\n",
      "units_1: 288\n",
      "learning_rate: 0.001\n",
      "units_2: 224\n",
      "units_3: 256\n",
      "units_4: 256\n",
      "units_5: 352\n",
      "units_6: 320\n",
      "units_7: 64\n",
      "units_8: 128\n",
      "units_9: 32\n",
      "units_10: 416\n",
      "units_11: 288\n",
      "units_12: 320\n",
      "units_13: 480\n",
      "units_14: 256\n",
      "units_15: 448\n",
      "units_16: 96\n",
      "units_17: 320\n",
      "units_18: 224\n",
      "Score: 41.715293884277344\n",
      "Trial summary\n",
      "Hyperparameters:\n",
      "num_layers: 19\n",
      "units_0: 64\n",
      "Wt_initializer: glorot_uniform\n",
      "units_1: 128\n",
      "learning_rate: 0.001\n",
      "units_2: 32\n",
      "units_3: 32\n",
      "units_4: 32\n",
      "units_5: 32\n",
      "units_6: 32\n",
      "units_7: 32\n",
      "units_8: 32\n",
      "units_9: 32\n",
      "units_10: 32\n",
      "units_11: 32\n",
      "units_12: 32\n",
      "units_13: 32\n",
      "units_14: 32\n",
      "units_15: 32\n",
      "units_16: 32\n",
      "units_17: 32\n",
      "units_18: 32\n",
      "Score: 42.66862360636393\n",
      "Trial summary\n",
      "Hyperparameters:\n",
      "num_layers: 11\n",
      "units_0: 480\n",
      "Wt_initializer: he_normal\n",
      "units_1: 256\n",
      "learning_rate: 0.001\n",
      "units_2: 64\n",
      "units_3: 64\n",
      "units_4: 384\n",
      "units_5: 352\n",
      "units_6: 480\n",
      "units_7: 192\n",
      "units_8: 64\n",
      "units_9: 160\n",
      "units_10: 448\n",
      "units_11: 256\n",
      "units_12: 224\n",
      "units_13: 416\n",
      "units_14: 416\n",
      "units_15: 96\n",
      "units_16: 160\n",
      "units_17: 288\n",
      "units_18: 96\n",
      "Score: 44.29819869995117\n",
      "Trial summary\n",
      "Hyperparameters:\n",
      "num_layers: 11\n",
      "units_0: 384\n",
      "Wt_initializer: he_uniform\n",
      "units_1: 416\n",
      "learning_rate: 0.01\n",
      "units_2: 224\n",
      "units_3: 64\n",
      "units_4: 128\n",
      "units_5: 64\n",
      "units_6: 224\n",
      "units_7: 480\n",
      "units_8: 288\n",
      "units_9: 384\n",
      "units_10: 224\n",
      "units_11: 128\n",
      "units_12: 192\n",
      "units_13: 224\n",
      "units_14: 96\n",
      "units_15: 320\n",
      "units_16: 96\n",
      "units_17: 512\n",
      "units_18: 480\n",
      "Score: 49.66797637939453\n",
      "Trial summary\n",
      "Hyperparameters:\n",
      "num_layers: 18\n",
      "units_0: 384\n",
      "Wt_initializer: he_uniform\n",
      "units_1: 96\n",
      "learning_rate: 0.001\n",
      "units_2: 480\n",
      "units_3: 416\n",
      "units_4: 256\n",
      "units_5: 32\n",
      "units_6: 160\n",
      "units_7: 448\n",
      "units_8: 416\n",
      "units_9: 160\n",
      "units_10: 384\n",
      "units_11: 480\n",
      "units_12: 288\n",
      "units_13: 64\n",
      "units_14: 288\n",
      "units_15: 64\n",
      "units_16: 480\n",
      "units_17: 480\n",
      "units_18: 320\n",
      "Score: 50.61644617716471\n"
     ]
    }
   ],
   "source": [
    "tuner.results_summary()"
   ]
  },
  {
   "cell_type": "code",
   "execution_count": null,
   "id": "daa7563e",
   "metadata": {},
   "outputs": [],
   "source": []
  }
 ],
 "metadata": {
  "kernelspec": {
   "display_name": "Python 3 (ipykernel)",
   "language": "python",
   "name": "python3"
  },
  "language_info": {
   "codemirror_mode": {
    "name": "ipython",
    "version": 3
   },
   "file_extension": ".py",
   "mimetype": "text/x-python",
   "name": "python",
   "nbconvert_exporter": "python",
   "pygments_lexer": "ipython3",
   "version": "3.10.4"
  }
 },
 "nbformat": 4,
 "nbformat_minor": 5
}
